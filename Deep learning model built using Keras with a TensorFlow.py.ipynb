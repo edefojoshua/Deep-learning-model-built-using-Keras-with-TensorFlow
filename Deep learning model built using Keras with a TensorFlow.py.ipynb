{
 "cells": [
  {
   "cell_type": "markdown",
   "id": "b22fe049",
   "metadata": {},
   "source": [
    "Set directory"
   ]
  },
  {
   "cell_type": "markdown",
   "id": "67054777",
   "metadata": {},
   "source": [
    "Deep learning model built using Keras with a TensorFlow\n"
   ]
  },
  {
   "cell_type": "code",
   "execution_count": 5,
   "id": "2d3a4867",
   "metadata": {},
   "outputs": [],
   "source": [
    "import os\n"
   ]
  },
  {
   "cell_type": "code",
   "execution_count": 6,
   "id": "5cb72c4a",
   "metadata": {},
   "outputs": [
    {
     "data": {
      "text/plain": [
       "'C:\\\\Users\\\\joe62'"
      ]
     },
     "execution_count": 6,
     "metadata": {},
     "output_type": "execute_result"
    }
   ],
   "source": [
    "current_directory = os.getcwd()\n",
    "current_directory"
   ]
  },
  {
   "cell_type": "code",
   "execution_count": 7,
   "id": "6d956b0b",
   "metadata": {},
   "outputs": [],
   "source": [
    "os.chdir('C:\\\\Users\\\\joe62')"
   ]
  },
  {
   "cell_type": "code",
   "execution_count": 8,
   "id": "4e0f5a50",
   "metadata": {},
   "outputs": [],
   "source": [
    "import pandas as pd\n",
    "import numpy as np\n",
    "from random import randint\n",
    "from sklearn.utils import shuffle\n",
    "from sklearn.preprocessing import normalize\n",
    "import csv"
   ]
  },
  {
   "cell_type": "code",
   "execution_count": 9,
   "id": "04b6c7d3",
   "metadata": {},
   "outputs": [],
   "source": [
    "with open ('C:\\\\Users\\joe62\\\\OneDrive - Aberystwyth University\\\\Apps\\\\Desktop\\\\Research on demographic and health\\\\deep_learning_n.csv', 'r') as f:\n",
    "      reader = csv.reader(f)\n",
    "      deep_learning_n = list(reader)"
   ]
  },
  {
   "cell_type": "code",
   "execution_count": 10,
   "id": "2125962e",
   "metadata": {},
   "outputs": [],
   "source": [
    "data = np.array(deep_learning_n, dtype=int)"
   ]
  },
  {
   "cell_type": "markdown",
   "id": "c1658947",
   "metadata": {},
   "source": [
    "Description of the data The data is from Demographic and health survey, Nigeria dataset 2018. The dependent varaible (1st coloumn of the dataset) was to determine if a child bearing woman ever had terminated pregnancy, \"0\" was no as reponse while \"1\" referrred to \"yes\" as response, indepedent variables were the weight of the respondent, wealth index, number of household and no of children given birth to by the respondent in column 2 to 5 respectively."
   ]
  },
  {
   "cell_type": "code",
   "execution_count": 11,
   "id": "9c52dfc0",
   "metadata": {},
   "outputs": [
    {
     "name": "stdout",
     "output_type": "stream",
     "text": [
      "[[      0  870296  150234       6       3]\n",
      " [      0  870296  150234       6       3]\n",
      " [      0  870296  150234       6       3]\n",
      " ...\n",
      " [      0 1389845   39837       6       4]\n",
      " [      0 1389845   39837       6       4]\n",
      " [      1 1389845  106615       3       1]]\n"
     ]
    }
   ],
   "source": [
    "print (data)"
   ]
  },
  {
   "cell_type": "code",
   "execution_count": 12,
   "id": "4ca334f2",
   "metadata": {},
   "outputs": [
    {
     "data": {
      "text/plain": [
       "104808"
      ]
     },
     "execution_count": 12,
     "metadata": {},
     "output_type": "execute_result"
    }
   ],
   "source": [
    "len(data)"
   ]
  },
  {
   "cell_type": "markdown",
   "id": "356aec32",
   "metadata": {},
   "source": [
    "Spliting data into training and test data"
   ]
  },
  {
   "cell_type": "code",
   "execution_count": 13,
   "id": "8a567666",
   "metadata": {},
   "outputs": [
    {
     "data": {
      "text/plain": [
       "83846"
      ]
     },
     "execution_count": 13,
     "metadata": {},
     "output_type": "execute_result"
    }
   ],
   "source": [
    "data = shuffle (data)\n",
    "training, test = np.array_split(data, [int(0.8*len(data))])\n",
    "len(training)"
   ]
  },
  {
   "cell_type": "code",
   "execution_count": 14,
   "id": "34e2f371",
   "metadata": {},
   "outputs": [
    {
     "data": {
      "text/plain": [
       "20962"
      ]
     },
     "execution_count": 14,
     "metadata": {},
     "output_type": "execute_result"
    }
   ],
   "source": [
    "len(test)"
   ]
  },
  {
   "cell_type": "markdown",
   "id": "6b432bf1",
   "metadata": {},
   "source": [
    "Training dataset\n",
    "\n",
    "Preparing target (dependent variable)"
   ]
  },
  {
   "cell_type": "code",
   "execution_count": 15,
   "id": "736ba69e",
   "metadata": {},
   "outputs": [
    {
     "name": "stdout",
     "output_type": "stream",
     "text": [
      "[0 0 0 ... 0 0 0]\n"
     ]
    }
   ],
   "source": [
    "dependent_train_data = training[0:,0]\n",
    "print(dependent_train_data)"
   ]
  },
  {
   "cell_type": "markdown",
   "id": "df1cdb7a",
   "metadata": {},
   "source": [
    "Reshape train data"
   ]
  },
  {
   "cell_type": "code",
   "execution_count": 16,
   "id": "909d7706",
   "metadata": {},
   "outputs": [
    {
     "name": "stdout",
     "output_type": "stream",
     "text": [
      "[[      0]\n",
      " [ 968085]\n",
      " [-101894]\n",
      " ...\n",
      " [-125587]\n",
      " [      4]\n",
      " [     10]]\n"
     ]
    }
   ],
   "source": [
    "dependent_train_data= training.reshape(-1,1)\n",
    "print(dependent_train_data)"
   ]
  },
  {
   "cell_type": "markdown",
   "id": "7f3401b5",
   "metadata": {},
   "source": [
    "Preparing target (independent variables)"
   ]
  },
  {
   "cell_type": "code",
   "execution_count": 17,
   "id": "a3dd921a",
   "metadata": {},
   "outputs": [
    {
     "name": "stdout",
     "output_type": "stream",
     "text": [
      "[[ 968085 -101894       3       1]\n",
      " [ 967954 -120590       4       3]\n",
      " [ 741120   63854       5       6]\n",
      " ...\n",
      " [ 756007  -66273       7       9]\n",
      " [ 864285  -19406       5      11]\n",
      " [ 952089 -125587       4      10]]\n"
     ]
    }
   ],
   "source": [
    "independent_variabls_train_data = training[:,1:]\n",
    "print(independent_variabls_train_data)"
   ]
  },
  {
   "cell_type": "markdown",
   "id": "94c0d8dc",
   "metadata": {},
   "source": [
    "Normalization of features (independent variables)"
   ]
  },
  {
   "cell_type": "code",
   "execution_count": 18,
   "id": "f5ff8bba",
   "metadata": {},
   "outputs": [],
   "source": [
    "normalized_independent_train_samples = normalize(independent_variabls_train_data, axis=0)"
   ]
  },
  {
   "cell_type": "markdown",
   "id": "66b8021d",
   "metadata": {},
   "source": [
    "insert libraries and modules"
   ]
  },
  {
   "cell_type": "code",
   "execution_count": 20,
   "id": "5e4ea963",
   "metadata": {},
   "outputs": [],
   "source": [
    "import tensorflow as tf\n",
    "from tensorflow import keras\n",
    "from tensorflow.keras.models import Sequential\n",
    "from tensorflow.keras.layers import  Activation, Dense, Dropout\n",
    "from tensorflow.keras.optimizers import Adam\n",
    "from tensorflow.keras.metrics import binary_crossentropy"
   ]
  },
  {
   "cell_type": "markdown",
   "id": "1b24d5ea",
   "metadata": {},
   "source": [
    "Sequential model"
   ]
  },
  {
   "cell_type": "code",
   "execution_count": 21,
   "id": "7500d6b5",
   "metadata": {},
   "outputs": [],
   "source": [
    "model = Sequential([\n",
    "      \n",
    "     Dense(units=32, input_shape=(4,), activation = \"relu\"),\n",
    "     Dense(units=64, activation =\"relu\"),\n",
    "     Dense(units=128, activation =\"relu\"),\n",
    "     Dropout(0.2),\n",
    "     Dense(units=1, activation = \"sigmoid\")\n",
    "])"
   ]
  },
  {
   "cell_type": "code",
   "execution_count": 22,
   "id": "06e1f9ce",
   "metadata": {},
   "outputs": [
    {
     "name": "stdout",
     "output_type": "stream",
     "text": [
      "Model: \"sequential\"\n",
      "_________________________________________________________________\n",
      " Layer (type)                Output Shape              Param #   \n",
      "=================================================================\n",
      " dense (Dense)               (None, 32)                160       \n",
      "                                                                 \n",
      " dense_1 (Dense)             (None, 64)                2112      \n",
      "                                                                 \n",
      " dense_2 (Dense)             (None, 128)               8320      \n",
      "                                                                 \n",
      " dropout (Dropout)           (None, 128)               0         \n",
      "                                                                 \n",
      " dense_3 (Dense)             (None, 1)                 129       \n",
      "                                                                 \n",
      "=================================================================\n",
      "Total params: 10,721\n",
      "Trainable params: 10,721\n",
      "Non-trainable params: 0\n",
      "_________________________________________________________________\n"
     ]
    }
   ],
   "source": [
    "model.summary()"
   ]
  },
  {
   "cell_type": "markdown",
   "id": "7511d074",
   "metadata": {},
   "source": [
    "Use model to predict"
   ]
  },
  {
   "cell_type": "markdown",
   "id": "df6280cf",
   "metadata": {},
   "source": [
    "Preparing dependent_test_data"
   ]
  },
  {
   "cell_type": "code",
   "execution_count": 23,
   "id": "ef745d9d",
   "metadata": {},
   "outputs": [],
   "source": [
    "dependent_test_data = test[0:,0]\n",
    "independent_variabls_test_data = test[:,1:]\n",
    "normalized_independent_test_samples = normalize(independent_variabls_test_data , axis=0)\n"
   ]
  },
  {
   "cell_type": "code",
   "execution_count": 24,
   "id": "302a7cf6",
   "metadata": {},
   "outputs": [],
   "source": [
    "predictions = model.predict(x=independent_variabls_test_data, batch_size=10, verbose=0 )"
   ]
  },
  {
   "cell_type": "code",
   "execution_count": 25,
   "id": "083cbe6f",
   "metadata": {},
   "outputs": [
    {
     "name": "stdout",
     "output_type": "stream",
     "text": [
      "[[0.]\n",
      " [0.]\n",
      " [0.]\n",
      " ...\n",
      " [0.]\n",
      " [1.]\n",
      " [0.]]\n"
     ]
    }
   ],
   "source": [
    "print(predictions)"
   ]
  },
  {
   "cell_type": "code",
   "execution_count": 26,
   "id": "3f4768b9",
   "metadata": {},
   "outputs": [],
   "source": [
    "%matplotlib inline\n",
    "from sklearn.metrics import confusion_matrix\n",
    "import itertools\n",
    "import matplotlib.pyplot as plt"
   ]
  },
  {
   "cell_type": "markdown",
   "id": "73e425d3",
   "metadata": {},
   "source": [
    "Convert predictions to binary (0 or 1) using a threshold (e.g., 0.5)"
   ]
  },
  {
   "cell_type": "code",
   "execution_count": 27,
   "id": "eee23f34",
   "metadata": {},
   "outputs": [],
   "source": [
    "binary_predictions = (predictions > 0.5).astype(int)"
   ]
  },
  {
   "cell_type": "code",
   "execution_count": 28,
   "id": "f48a4613",
   "metadata": {},
   "outputs": [
    {
     "name": "stdout",
     "output_type": "stream",
     "text": [
      "[[16326  1417]\n",
      " [ 3035   184]]\n"
     ]
    }
   ],
   "source": [
    "cm = confusion_matrix(y_true = dependent_test_data, y_pred =binary_predictions )\n",
    "print(cm)"
   ]
  },
  {
   "cell_type": "code",
   "execution_count": 29,
   "id": "a4d208b1",
   "metadata": {},
   "outputs": [],
   "source": [
    "def plot_confusion_matrix(cm, classes, \n",
    "                          normalize= False, \n",
    "                          title = 'Confusion matrix', \n",
    "                          cmap=plt.cm.Blues):\n",
    "    plt.imshow(cm, interpolation = 'nearest', cmap=cmap)\n",
    "    plt.title(title)\n",
    "    plt.colorbar()\n",
    "    tick_marks = np.arange(len(classes))\n",
    "    plt.xticks(tick_marks, classes, rotation=45)\n",
    "    plt.yticks(tick_marks, classes)\n",
    "    if normalize:\n",
    "        cm=cm.astype('int')/ cm.sum(axis=1)[:, np.newaxis]\n",
    "        print('Normalized confusion matrix' ),\n",
    "    else:\n",
    "            print('Confusion matrix, without normalization' )\n",
    "    print(cm)\n",
    "    \n",
    "    thresh = cm.max() /2.\n",
    "    for i,j in itertools.product(range(cm.shape[0]), range(cm.shape[1])):\n",
    "        plt.text(j, i, cm[i,j],\n",
    "                horizontalalignment= \"center\",\n",
    "                 color = \"white\" if cm[i,j] > thresh else \"black\")\n",
    "    plt.tight_layout()\n",
    "    plt.ylabel('True label')\n",
    "    plt.xlabel('Predicted label')"
   ]
  },
  {
   "cell_type": "code",
   "execution_count": 30,
   "id": "bb41bb6b",
   "metadata": {},
   "outputs": [
    {
     "name": "stdout",
     "output_type": "stream",
     "text": [
      "Confusion matrix, without normalization\n",
      "[[16326  1417]\n",
      " [ 3035   184]]\n"
     ]
    },
    {
     "data": {
      "image/png": "[encoded data removed]",
      "text/plain": [
       "<Figure size 640x480 with 2 Axes>"
      ]
     },
     "metadata": {},
     "output_type": "display_data"
    }
   ],
   "source": [
    "cm_plot_labels = ['had_never_terminated_Preg', 'Terminated_pregnancy'] \n",
    "plot_confusion_matrix(cm=cm, classes=cm_plot_labels, title = 'Confusion Matrix')"
   ]
  },
  {
   "cell_type": "markdown",
   "id": "ded79306",
   "metadata": {},
   "source": [
    "Values from the confusion matrix"
   ]
  },
  {
   "cell_type": "code",
   "execution_count": 31,
   "id": "52988eb8",
   "metadata": {},
   "outputs": [],
   "source": [
    "TN = 17795  # True Negatives\n",
    "FP = 16     # False Positives\n",
    "FN = 3148   # False Negatives\n",
    "TP = 3      # True Positives"
   ]
  },
  {
   "cell_type": "markdown",
   "id": "7db96166",
   "metadata": {},
   "source": [
    "Recall (also known as Sensitivity or True Positive Rate"
   ]
  },
  {
   "cell_type": "code",
   "execution_count": 32,
   "id": "70f3d48e",
   "metadata": {},
   "outputs": [
    {
     "name": "stdout",
     "output_type": "stream",
     "text": [
      "Recall: 0.0952\n"
     ]
    }
   ],
   "source": [
    "recall = TP / (TP + FN) *100\n",
    "print(f\"Recall: {recall:.4f}\")"
   ]
  },
  {
   "cell_type": "markdown",
   "id": "19c1f3ee",
   "metadata": {},
   "source": [
    "Specificity"
   ]
  },
  {
   "cell_type": "code",
   "execution_count": 33,
   "id": "afd54eb5",
   "metadata": {},
   "outputs": [
    {
     "name": "stdout",
     "output_type": "stream",
     "text": [
      "Specificity: 99.9102\n"
     ]
    }
   ],
   "source": [
    "specificity = TN / (TN + FP) *100\n",
    "print(f\"Specificity: {specificity:.4f}\")"
   ]
  },
  {
   "cell_type": "markdown",
   "id": "a47a923a",
   "metadata": {},
   "source": [
    "Recall calculation"
   ]
  },
  {
   "cell_type": "code",
   "execution_count": 34,
   "id": "24a291af",
   "metadata": {},
   "outputs": [
    {
     "name": "stdout",
     "output_type": "stream",
     "text": [
      "Precision: 15.7895\n"
     ]
    }
   ],
   "source": [
    "precision = TP / (TP + FP)*100\n",
    "print(f\"Precision: {precision:.4f}\")"
   ]
  },
  {
   "cell_type": "markdown",
   "id": "784a8962",
   "metadata": {},
   "source": [
    " Save the model\n"
   ]
  },
  {
   "cell_type": "code",
   "execution_count": 35,
   "id": "15ff66e4",
   "metadata": {},
   "outputs": [
    {
     "name": "stdout",
     "output_type": "stream",
     "text": [
      "WARNING:tensorflow:Compiled the loaded model, but the compiled metrics have yet to be built. `model.compile_metrics` will be empty until you train or evaluate the model.\n",
      "INFO:tensorflow:Assets written to: Deep learning model built using Keras with a TensorFlow\\assets\n"
     ]
    }
   ],
   "source": [
    "if os.path.isfile('C:\\\\Users\\\\joe62\\Deep learning model built using Keras with a TensorFlow') is False: \n",
    "    model.save('Deep learning model built using Keras with a TensorFlow')"
   ]
  },
  {
   "cell_type": "code",
   "execution_count": null,
   "id": "235d7a29",
   "metadata": {},
   "outputs": [],
   "source": [
    "\"C:\\Users\\joe62\\Downloads\\Deep learning model built using Keras with a TensorFlow.py\""
   ]
  }
 ],
 "metadata": {
  "kernelspec": {
   "display_name": "Python 3 (ipykernel)",
   "language": "python",
   "name": "python3"
  },
  "language_info": {
   "codemirror_mode": {
    "name": "ipython",
    "version": 3
   },
   "file_extension": ".py",
   "mimetype": "text/x-python",
   "name": "python",
   "nbconvert_exporter": "python",
   "pygments_lexer": "ipython3",
   "version": "3.11.4"
  }
 },
 "nbformat": 4,
 "nbformat_minor": 5
}
